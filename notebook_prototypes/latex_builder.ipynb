{
 "cells": [
  {
   "cell_type": "code",
   "execution_count": 1,
   "id": "3281e2da",
   "metadata": {},
   "outputs": [
    {
     "name": "stderr",
     "output_type": "stream",
     "text": [
      "'created' timestamp seems very low; regarding as unix timestamp\n"
     ]
    },
    {
     "name": "stdout",
     "output_type": "stream",
     "text": [
      "PDF создан: vacancies.pdf\n"
     ]
    }
   ],
   "source": [
    "from fpdf import FPDF, XPos, YPos\n",
    "import datetime\n",
    "import os\n",
    "\n",
    "pdf = FPDF()\n",
    "pdf.add_page()\n",
    "\n",
    "# Пути к шрифтам\n",
    "font_regular = r\"fonts\\\\Helvetica.ttf\"  # обычный текст\n",
    "font_bold = r\"fonts\\\\Helvetica-Bold.ttf\"  # заголовки\n",
    "\n",
    "if not os.path.exists(font_regular) or not os.path.exists(font_bold):\n",
    "    raise FileNotFoundError(\"Один из шрифтов не найден\")\n",
    "\n",
    "# Подключаем шрифты\n",
    "pdf.add_font(\"ArialUnicode\", \"\", font_regular)\n",
    "pdf.add_font(\"HelveticaBold\", \"\", font_bold)\n",
    "\n",
    "# Заголовок с датой\n",
    "date_str = datetime.date.today().strftime(\"%d.%m.%Y\")\n",
    "pdf.set_font(\"HelveticaBold\", \"\", 20)\n",
    "pdf.cell(0, 10, f\"Вакансии на {date_str}\", new_x=XPos.LMARGIN, new_y=YPos.NEXT, align=\"C\")\n",
    "pdf.ln(10)\n",
    "\n",
    "# Данные вакансий\n",
    "vacancies_by_company = {\n",
    "    \"ООО ТехСофт\": [\n",
    "        {\"title\": \"Python-разработчик\", \"description\": \"Разработка внутренних сервисов, Django/Flask, Docker.\"},\n",
    "        {\"title\": \"Инженер по данным\", \"description\": \"Построение ETL, SQL, Python.\"},\n",
    "    ],\n",
    "    \"АналитикГрупп\": [\n",
    "        {\"title\": \"Бизнес-аналитик\", \"description\": \"Сбор и формализация требований, BPMN, Jira/Confluence.\"}\n",
    "    ],\n",
    "    \"ТестСофт\": [\n",
    "        {\"title\": \"QA-инженер\", \"description\": \"Функциональное и регрессионное тестирование веб-приложений.\"}\n",
    "    ]\n",
    "}\n",
    "\n",
    "for company, jobs in vacancies_by_company.items():\n",
    "    pdf.set_font(\"HelveticaBold\", \"\", 16)\n",
    "    pdf.cell(0, 8, company, new_x=XPos.LMARGIN, new_y=YPos.NEXT)\n",
    "    pdf.ln(2)\n",
    "    for job in jobs:\n",
    "        pdf.set_font(\"ArialUnicode\", \"\", 12)\n",
    "        pdf.multi_cell(0, 6, f\"{job['title']}: {job['description']}\")\n",
    "        pdf.ln(2)\n",
    "    pdf.ln(4)\n",
    "\n",
    "# Сохраняем PDF\n",
    "output_pdf = \"vacancies.pdf\"\n",
    "pdf.output(output_pdf)\n",
    "print(f\"PDF создан: {output_pdf}\")\n"
   ]
  },
  {
   "cell_type": "code",
   "execution_count": null,
   "id": "a5d210a4",
   "metadata": {},
   "outputs": [],
   "source": []
  }
 ],
 "metadata": {
  "kernelspec": {
   "display_name": "venv",
   "language": "python",
   "name": "python3"
  },
  "language_info": {
   "codemirror_mode": {
    "name": "ipython",
    "version": 3
   },
   "file_extension": ".py",
   "mimetype": "text/x-python",
   "name": "python",
   "nbconvert_exporter": "python",
   "pygments_lexer": "ipython3",
   "version": "3.11.7"
  }
 },
 "nbformat": 4,
 "nbformat_minor": 5
}
