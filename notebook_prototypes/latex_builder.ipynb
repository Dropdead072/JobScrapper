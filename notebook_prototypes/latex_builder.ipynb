{
 "cells": [
  {
   "cell_type": "code",
   "execution_count": 14,
   "id": "3281e2da",
   "metadata": {},
   "outputs": [
    {
     "name": "stdout",
     "output_type": "stream",
     "text": [
      "PDF создан: vacancies.pdf\n"
     ]
    },
    {
     "name": "stderr",
     "output_type": "stream",
     "text": [
      "C:\\Users\\Max\\AppData\\Local\\Temp\\ipykernel_29652\\3162323116.py:13: DeprecationWarning: \"uni\" parameter is deprecated since v2.5.1, unused and will soon be removed\n",
      "  pdf.add_font(\"ArialUnicode\", \"\", font_path, uni=True)\n",
      "C:\\Users\\Max\\AppData\\Local\\Temp\\ipykernel_29652\\3162323116.py:18: DeprecationWarning: The parameter \"ln\" is deprecated since v2.5.2. Instead of ln=True use new_x=XPos.LMARGIN, new_y=YPos.NEXT.\n",
      "  pdf.cell(0, 10, f\"Вакансии на {date_str}\", ln=True, align=\"C\")\n",
      "C:\\Users\\Max\\AppData\\Local\\Temp\\ipykernel_29652\\3162323116.py:37: DeprecationWarning: The parameter \"ln\" is deprecated since v2.5.2. Instead of ln=True use new_x=XPos.LMARGIN, new_y=YPos.NEXT.\n",
      "  pdf.cell(0, 8, company, ln=True)\n"
     ]
    }
   ],
   "source": [
    "from fpdf import FPDF\n",
    "import datetime\n",
    "import os\n",
    "\n",
    "pdf = FPDF()\n",
    "pdf.add_page()\n",
    "\n",
    "# Подключаем TTF с кириллицей\n",
    "font_path = r\"C:\\Windows\\Fonts\\arial.ttf\"\n",
    "if not os.path.exists(font_path):\n",
    "    raise FileNotFoundError(f\"Шрифт не найден: {font_path}\")\n",
    "\n",
    "pdf.add_font(\"ArialUnicode\", \"\", font_path, uni=True)\n",
    "pdf.set_font(\"ArialUnicode\", \"\", 16)\n",
    "\n",
    "# Заголовок с датой\n",
    "date_str = datetime.date.today().strftime(\"%d.%m.%Y\")\n",
    "pdf.cell(0, 10, f\"Вакансии на {date_str}\", ln=True, align=\"C\")\n",
    "pdf.ln(10)\n",
    "\n",
    "# Компании и вакансии\n",
    "vacancies_by_company = {\n",
    "    \"ООО ТехСофт\": [\n",
    "        {\"title\": \"Python-разработчик\", \"description\": \"Разработка внутренних сервисов, Django/Flask, Docker.\"},\n",
    "        {\"title\": \"Инженер по данным\", \"description\": \"Построение ETL, SQL, Python.\"},\n",
    "    ],\n",
    "    \"АналитикГрупп\": [\n",
    "        {\"title\": \"Бизнес-аналитик\", \"description\": \"Сбор и формализация требований, BPMN, Jira/Confluence.\"}\n",
    "    ],\n",
    "    \"ТестСофт\": [\n",
    "        {\"title\": \"QA-инженер\", \"description\": \"Функциональное и регрессионное тестирование веб-приложений.\"}\n",
    "    ]\n",
    "}\n",
    "\n",
    "for company, jobs in vacancies_by_company.items():\n",
    "    pdf.set_font(\"ArialUnicode\", \"\", 14)\n",
    "    pdf.cell(0, 8, company, ln=True)\n",
    "    pdf.ln(2)\n",
    "    for job in jobs:\n",
    "        pdf.set_font(\"ArialUnicode\", \"\", 12)\n",
    "        pdf.multi_cell(0, 6, f\"{job['title']}: {job['description']}\")\n",
    "        pdf.ln(2)\n",
    "    pdf.ln(4)\n",
    "\n",
    "# Сохраняем PDF\n",
    "output_pdf = \"vacancies.pdf\"\n",
    "pdf.output(output_pdf)\n",
    "print(f\"PDF создан: {output_pdf}\")\n"
   ]
  },
  {
   "cell_type": "code",
   "execution_count": null,
   "id": "a5d210a4",
   "metadata": {},
   "outputs": [],
   "source": []
  }
 ],
 "metadata": {
  "kernelspec": {
   "display_name": "venv",
   "language": "python",
   "name": "python3"
  },
  "language_info": {
   "codemirror_mode": {
    "name": "ipython",
    "version": 3
   },
   "file_extension": ".py",
   "mimetype": "text/x-python",
   "name": "python",
   "nbconvert_exporter": "python",
   "pygments_lexer": "ipython3",
   "version": "3.11.7"
  }
 },
 "nbformat": 4,
 "nbformat_minor": 5
}
