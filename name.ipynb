{
 "cells": [
  {
   "cell_type": "code",
   "execution_count": null,
   "id": "43dde40c",
   "metadata": {},
   "outputs": [],
   "source": [
    "import json\n",
    "\n",
    "import time\n",
    "from selenium import webdriver\n",
    "from selenium.webdriver.chrome.options import Options\n",
    "from selenium.webdriver.common.by import By\n",
    "\n",
    "from exceptions import NoItemsError, AttributeExtractionError\n",
    "\n",
    "import random"
   ]
  },
  {
   "cell_type": "code",
   "execution_count": 7,
   "id": "bd742507",
   "metadata": {},
   "outputs": [
    {
     "data": {
      "text/plain": [
       "['Mozilla/5.0 (Windows NT 10.0; Win64; x64) AppleWebKit/537.36 (KHTML, like Gecko) Chrome/127.0.0.0 Safari/537.36',\n",
       " 'Mozilla/5.0 (Macintosh; Intel Mac OS X 10_15_7) AppleWebKit/537.36 (KHTML, like Gecko) Chrome/126.0.0.0 Safari/537.36',\n",
       " 'Mozilla/5.0 (X11; Linux x86_64) AppleWebKit/537.36 (KHTML, like Gecko) Chrome/127.0.0.0 Safari/537.36']"
      ]
     },
     "execution_count": 7,
     "metadata": {},
     "output_type": "execute_result"
    }
   ],
   "source": [
    "with open('agents.json', 'r', encoding='utf-8') as file:\n",
    "    agents = json.load(file)\n",
    "\n",
    "agents['USER_AGENTS']"
   ]
  },
  {
   "cell_type": "code",
   "execution_count": null,
   "id": "f0e50c84",
   "metadata": {},
   "outputs": [],
   "source": [
    "user_agent = agents['USER_AGENTS']\n",
    "\n",
    "def scrape_site_for_links(url, item_selector):\n",
    "    '''\n",
    "    \n",
    "    '''\n",
    "    options = Options()\n",
    "    options.add_argument(\"--headless\")\n",
    "    options.add_argument(f\"user-agent={user_agent}\")\n",
    "    options.add_argument(\"--disable-blink-features=AutomationControlled\")\n",
    "    \n",
    "    driver = webdriver.Chrome(options=options)\n",
    "\n",
    "    link_list = []\n",
    "\n",
    "    try:\n",
    "        driver.get(url)\n",
    "        time.sleep(random.uniform(1, 2))\n",
    "        items = driver.find_elements(By.CSS_SELECTOR, item_selector)\n",
    "        if not items:\n",
    "            driver.quit()\n",
    "            raise NoItemsError\n",
    "        for element in items:\n",
    "            a_tag = element.find_element(By.TAG_NAME, \"a\")\n",
    "            href = a_tag.get_attribute(\"href\")\n",
    "            if href:\n",
    "                link_list.append(href)\n",
    "            else:\n",
    "                driver.quit()\n",
    "                raise AttributeExtractionError\n",
    "    except Exception as e:\n",
    "        driver.quit()\n",
    "        raise e\n",
    "    \n",
    "    driver.quit()\n",
    "    return link_list"
   ]
  },
  {
   "cell_type": "code",
   "execution_count": null,
   "id": "b2b6d46f",
   "metadata": {},
   "outputs": [
    {
     "name": "stdout",
     "output_type": "stream",
     "text": [
      "[OK] https://career.avito.com/vacancies/data-science/ -> 17 ссылок\n",
      "Результат сохранён в somename.txt\n"
     ]
    }
   ],
   "source": [
    "def scrape_and_save(urls, item_selector, output_file=\"somename.txt\"):\n",
    "    \"\"\"\n",
    "    Открывает список URL в Selenium, ищет блоки по селектору, вытаскивает href из <a> внутри и сохраняет в файл.\n",
    "\n",
    "    Args:\n",
    "        urls (list[str]): список ссылок со страницами вакансий\n",
    "        item_selector (str): CSS-селектор блока вакансии (например, \"div.vacancies-section__item\")\n",
    "        output_file (str): имя файла для сохранения\n",
    "    \"\"\"\n",
    "    # --- заглушка User-Agent (статический) ---\n",
    "    user_agent = (\n",
    "        \"Mozilla/5.0 (Windows NT 10.0; Win64; x64) \"\n",
    "        \"AppleWebKit/537.36 (KHTML, like Gecko) \"\n",
    "        \"Chrome/127.0.0.0 Safari/537.36\"\n",
    "    )\n",
    "\n",
    "    options = Options()\n",
    "    options.add_argument(f\"user-agent={user_agent}\")\n",
    "    options.add_argument(\"--disable-blink-features=AutomationControlled\")\n",
    "\n",
    "    driver = webdriver.Chrome(options=options)\n",
    "\n",
    "    with open(output_file, \"w\", encoding=\"utf-8\") as f:\n",
    "        for url in urls:\n",
    "            try:\n",
    "                driver.get(url)\n",
    "                time.sleep(2)  # дать время на рендер\n",
    "\n",
    "                items = driver.find_elements(By.CSS_SELECTOR, item_selector)\n",
    "                if not items:\n",
    "                    print(f\"[WARN] нет элементов на {url}\")\n",
    "                    continue\n",
    "\n",
    "                for el in items:\n",
    "                    a_tag = el.find_element(By.TAG_NAME, \"a\")\n",
    "                    href = a_tag.get_attribute(\"href\")\n",
    "                    if href:\n",
    "                        f.write(f\"{href}\\n\")\n",
    "\n",
    "                print(f\"[OK] {url} -> {len(items)} ссылок\")\n",
    "\n",
    "            except Exception as e:\n",
    "                print(f\"[ERR] {url} -> {e}\")\n",
    "\n",
    "    driver.quit()\n",
    "    print(f\"Результат сохранён в {output_file}\")\n",
    "\n",
    "\n",
    "# ==== пример вызова ====\n",
    "if __name__ == \"__main__\":\n",
    "    urls = [\n",
    "        \"https://career.avito.com/vacancies/data-science/\"\n",
    "    ]\n",
    "    scrape_and_save(urls, item_selector=\"div.vacancies-section__item\")\n"
   ]
  },
  {
   "cell_type": "code",
   "execution_count": null,
   "id": "b73b4c43",
   "metadata": {},
   "outputs": [],
   "source": []
  }
 ],
 "metadata": {
  "kernelspec": {
   "display_name": "venv",
   "language": "python",
   "name": "python3"
  },
  "language_info": {
   "codemirror_mode": {
    "name": "ipython",
    "version": 3
   },
   "file_extension": ".py",
   "mimetype": "text/x-python",
   "name": "python",
   "nbconvert_exporter": "python",
   "pygments_lexer": "ipython3",
   "version": "3.11.7"
  }
 },
 "nbformat": 4,
 "nbformat_minor": 5
}
